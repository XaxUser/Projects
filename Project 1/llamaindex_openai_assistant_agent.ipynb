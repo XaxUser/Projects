{
  "cells": [
    {
      "cell_type": "markdown",
      "id": "view-in-github",
      "metadata": {
        "id": "view-in-github"
      },
      "source": [
        "<a href=\"https://colab.research.google.com/github/sudarshan-koirala/youtube-stuffs/blob/main/llamaindex/llamaindex_openai_assistant_agent.ipynb\" target=\"_parent\"><img src=\"https://colab.research.google.com/assets/colab-badge.svg\" alt=\"Open In Colab\"/></a>"
      ]
    },
    {
      "cell_type": "markdown",
      "id": "99cea58c-48bc-4af6-8358-df9695659983",
      "metadata": {
        "id": "99cea58c-48bc-4af6-8358-df9695659983"
      },
      "source": [
        "# OpenAI Assistant Agent\n",
        "\n",
        "This shows you how to use our agent abstractions built on top of the [OpenAI Assistant API](https://platform.openai.com/docs/assistants/overview).\n"
      ]
    },
    {
      "cell_type": "code",
      "execution_count": 1,
      "id": "c61c873d",
      "metadata": {
        "id": "c61c873d"
      },
      "outputs": [],
      "source": [
        "%%capture\n",
        "!pip install llama-index watermark openai"
      ]
    },
    {
      "cell_type": "code",
      "execution_count": 2,
      "id": "kScPwj5OGl4w",
      "metadata": {
        "colab": {
          "base_uri": "https://localhost:8080/"
        },
        "id": "kScPwj5OGl4w",
        "outputId": "920e794d-f893-4e7c-81c0-a11846cfbfcd"
      },
      "outputs": [
        {
          "name": "stdout",
          "output_type": "stream",
          "text": [
            "Author: Sudarshan Koirala\n",
            "\n",
            "Python implementation: CPython\n",
            "Python version       : 3.10.12\n",
            "IPython version      : 7.34.0\n",
            "\n",
            "llama_index: 0.11.11\n",
            "openai     : 1.47.0\n",
            "\n",
            "Compiler    : GCC 11.4.0\n",
            "OS          : Linux\n",
            "Release     : 6.1.85+\n",
            "Machine     : x86_64\n",
            "Processor   : x86_64\n",
            "CPU cores   : 2\n",
            "Architecture: 64bit\n",
            "\n"
          ]
        }
      ],
      "source": [
        "%load_ext watermark\n",
        "%watermark -a \"Sudarshan Koirala\" -vmp llama_index,openai"
      ]
    },
    {
      "cell_type": "code",
      "execution_count": null,
      "id": "ze_4jAaRG16l",
      "metadata": {
        "colab": {
          "base_uri": "https://localhost:8080/"
        },
        "id": "ze_4jAaRG16l",
        "outputId": "dc6ad6b4-ae90-4f10-a82e-11a14c9f1876"
      },
      "outputs": [
        {
          "name": "stdout",
          "output_type": "stream",
          "text": [
            "··········\n"
          ]
        }
      ],
      "source": [
        "# get your openai api key from https://platform.openai.com/account/api-keys 🔑\n",
        "import openai\n",
        "import os\n",
        "from getpass import getpass\n",
        "\n",
        "OPENAI_API_KEY = getpass()\n",
        "os.environ[\"OPENAI_API_KEY\"] = \"YOUR API KEY\""
      ]
    },
    {
      "cell_type": "markdown",
      "id": "54b7bc2e-606f-411a-9490-fcfab9236dfc",
      "metadata": {
        "id": "54b7bc2e-606f-411a-9490-fcfab9236dfc"
      },
      "source": [
        "## Simple Agent (no external tools)\n",
        "\n",
        "Here we show a simple example with the built-in code interpreter."
      ]
    },
    {
      "cell_type": "code",
      "execution_count": 6,
      "id": "7f856af7-2f11-446a-9aef-21d68ddf2695",
      "metadata": {
        "id": "7f856af7-2f11-446a-9aef-21d68ddf2695"
      },
      "outputs": [],
      "source": [
        "from llama_index.agent.openai import OpenAIAssistantAgent\n"
      ]
    },
    {
      "cell_type": "code",
      "execution_count": 10,
      "id": "8eR3v_tLLgtw",
      "metadata": {
        "id": "8eR3v_tLLgtw"
      },
      "outputs": [],
      "source": [
        "OpenAIAssistantAgent??"
      ]
    },
    {
      "cell_type": "code",
      "execution_count": 11,
      "id": "82b6fe26-0bdd-44ab-a887-9525dbc85f00",
      "metadata": {
        "id": "82b6fe26-0bdd-44ab-a887-9525dbc85f00"
      },
      "outputs": [],
      "source": [
        "agent = OpenAIAssistantAgent.from_new(\n",
        "    name=\"Math Tutor\",\n",
        "    instructions=\"You are a personal math tutor. Write and run code to answer math questions.\",\n",
        "    openai_tools=[{\"type\": \"code_interpreter\"}],\n",
        "    instructions_prefix=\"Please address the user as Sudarshan Koirala.\",\n",
        ")"
      ]
    },
    {
      "cell_type": "code",
      "execution_count": 12,
      "id": "40da2dd6-0872-4179-bbc1-33dfbb6c2b46",
      "metadata": {
        "colab": {
          "base_uri": "https://localhost:8080/",
          "height": 35
        },
        "id": "40da2dd6-0872-4179-bbc1-33dfbb6c2b46",
        "outputId": "23cc74f0-f937-492c-b0ea-932af94095f7"
      },
      "outputs": [
        {
          "data": {
            "application/vnd.google.colaboratory.intrinsic+json": {
              "type": "string"
            },
            "text/plain": [
              "'thread_tEIZPKng47drGQvA8Nf7uat8'"
            ]
          },
          "execution_count": 12,
          "metadata": {},
          "output_type": "execute_result"
        }
      ],
      "source": [
        "agent.thread_id"
      ]
    },
    {
      "cell_type": "code",
      "execution_count": 13,
      "id": "9f0433d6-d662-4d9c-a087-d2052269c4e9",
      "metadata": {
        "id": "9f0433d6-d662-4d9c-a087-d2052269c4e9"
      },
      "outputs": [],
      "source": [
        "response = agent.chat(\n",
        "    \"I need to solve the equation `3x + 11 = 0`. Can you help me?\"\n",
        ")"
      ]
    },
    {
      "cell_type": "code",
      "execution_count": 14,
      "id": "1bfaa306-245a-43e3-bcd4-f5ad8611aa70",
      "metadata": {
        "colab": {
          "base_uri": "https://localhost:8080/"
        },
        "id": "1bfaa306-245a-43e3-bcd4-f5ad8611aa70",
        "outputId": "054595a9-9648-41ee-be1d-ea6fd88005af"
      },
      "outputs": [
        {
          "name": "stdout",
          "output_type": "stream",
          "text": [
            "Certainly, Sudarshan Koirala. The solution to the equation `3x + 11 = 0` is `x = -11/3`.\n"
          ]
        }
      ],
      "source": [
        "print(str(response))"
      ]
    },
    {
      "cell_type": "markdown",
      "id": "b4b8a07e-b18d-4ab2-be61-9f5b835aface",
      "metadata": {
        "id": "b4b8a07e-b18d-4ab2-be61-9f5b835aface"
      },
      "source": [
        "## Assistant with Query Engine Tools\n",
        "\n",
        "Here we showcase the function calling capabilities of the OpenAIAssistantAgent by integrating it with our query engine tools over different documents."
      ]
    },
    {
      "cell_type": "markdown",
      "id": "62c55f5f-fc22-4e85-b539-fbbe1fd93ac2",
      "metadata": {
        "id": "62c55f5f-fc22-4e85-b539-fbbe1fd93ac2"
      },
      "source": [
        "### 1. Setup: Load Data"
      ]
    },
    {
      "cell_type": "code",
      "execution_count": 18,
      "id": "355abef5-85c2-4a2c-8b6f-3a6c2d520807",
      "metadata": {
        "id": "355abef5-85c2-4a2c-8b6f-3a6c2d520807"
      },
      "outputs": [],
      "source": [
        "from llama_index.agent.openai import OpenAIAssistantAgent\n",
        "from llama_index.core import (\n",
        "    SimpleDirectoryReader,\n",
        "    VectorStoreIndex,\n",
        "    StorageContext,\n",
        "    load_index_from_storage,\n",
        ")\n",
        "\n",
        "from llama_index.core.tools import QueryEngineTool, ToolMetadata"
      ]
    },
    {
      "cell_type": "code",
      "execution_count": 19,
      "id": "e6d02c34-d5d6-4318-824f-1ae20fc5d286",
      "metadata": {
        "id": "e6d02c34-d5d6-4318-824f-1ae20fc5d286"
      },
      "outputs": [],
      "source": [
        "try:\n",
        "    storage_context = StorageContext.from_defaults(\n",
        "        persist_dir=\"./storage/lyft\"\n",
        "    )\n",
        "    lyft_index = load_index_from_storage(storage_context)\n",
        "\n",
        "    storage_context = StorageContext.from_defaults(\n",
        "        persist_dir=\"./storage/uber\"\n",
        "    )\n",
        "    uber_index = load_index_from_storage(storage_context)\n",
        "\n",
        "    index_loaded = True\n",
        "except:\n",
        "    index_loaded = False"
      ]
    },
    {
      "cell_type": "code",
      "execution_count": 20,
      "id": "b43c5eb8-a98b-4f17-877b-f66b7d8715ce",
      "metadata": {
        "colab": {
          "base_uri": "https://localhost:8080/"
        },
        "id": "b43c5eb8-a98b-4f17-877b-f66b7d8715ce",
        "outputId": "f662ed4e-4c73-4c22-88ee-8eb19d368575"
      },
      "outputs": [
        {
          "name": "stdout",
          "output_type": "stream",
          "text": [
            "--2024-09-22 00:45:14--  https://raw.githubusercontent.com/run-llama/llama_index/main/docs/examples/data/10k/uber_2021.pdf\n",
            "Resolving raw.githubusercontent.com (raw.githubusercontent.com)... 185.199.108.133, 185.199.111.133, 185.199.109.133, ...\n",
            "Connecting to raw.githubusercontent.com (raw.githubusercontent.com)|185.199.108.133|:443... connected.\n",
            "HTTP request sent, awaiting response... 404 Not Found\n",
            "2024-09-22 00:45:14 ERROR 404: Not Found.\n",
            "\n",
            "--2024-09-22 00:45:14--  https://raw.githubusercontent.com/run-llama/llama_index/main/docs/examples/data/10k/lyft_2021.pdf\n",
            "Resolving raw.githubusercontent.com (raw.githubusercontent.com)... 185.199.111.133, 185.199.109.133, 185.199.110.133, ...\n",
            "Connecting to raw.githubusercontent.com (raw.githubusercontent.com)|185.199.111.133|:443... connected.\n",
            "HTTP request sent, awaiting response... 404 Not Found\n",
            "2024-09-22 00:45:14 ERROR 404: Not Found.\n",
            "\n"
          ]
        }
      ],
      "source": [
        "!mkdir -p 'data/10k/'\n",
        "!wget 'https://raw.githubusercontent.com/run-llama/llama_index/main/docs/examples/data/10k/uber_2021.pdf' -O 'data/10k/uber_2021.pdf'\n",
        "!wget 'https://raw.githubusercontent.com/run-llama/llama_index/main/docs/examples/data/10k/lyft_2021.pdf' -O 'data/10k/lyft_2021.pdf'"
      ]
    },
    {
      "cell_type": "code",
      "execution_count": 21,
      "id": "n_U493M5IBle",
      "metadata": {
        "id": "n_U493M5IBle"
      },
      "outputs": [],
      "source": [
        "%%capture\n",
        "!pip install pypdf"
      ]
    },
    {
      "cell_type": "code",
      "execution_count": 22,
      "id": "3d79f4f2-bc1d-4aff-b51e-0f05e4de2aac",
      "metadata": {
        "colab": {
          "base_uri": "https://localhost:8080/"
        },
        "id": "3d79f4f2-bc1d-4aff-b51e-0f05e4de2aac",
        "outputId": "e6ef7618-5ba8-4bc2-a84a-8010a654459c"
      },
      "outputs": [
        {
          "name": "stdout",
          "output_type": "stream",
          "text": [
            "Failed to load file data/10k/lyft_2021.pdf with error: RetryError[<Future at 0x7f6ef8c941c0 state=finished raised EmptyFileError>]. Skipping...\n",
            "Failed to load file data/10k/uber_2021.pdf with error: RetryError[<Future at 0x7f6eefef6440 state=finished raised EmptyFileError>]. Skipping...\n"
          ]
        }
      ],
      "source": [
        "if not index_loaded:\n",
        "    # load data\n",
        "    lyft_docs = SimpleDirectoryReader(\n",
        "        input_files=[\"./data/10k/lyft_2021.pdf\"]\n",
        "    ).load_data()\n",
        "\n",
        "    uber_docs = SimpleDirectoryReader(\n",
        "        input_files=[\"./data/10k/uber_2021.pdf\"]\n",
        "    ).load_data()\n",
        "\n",
        "    # build index\n",
        "    lyft_index = VectorStoreIndex.from_documents(lyft_docs)\n",
        "    uber_index = VectorStoreIndex.from_documents(uber_docs)\n",
        "\n",
        "    # persist index\n",
        "    lyft_index.storage_context.persist(persist_dir=\"./storage/lyft\")\n",
        "    uber_index.storage_context.persist(persist_dir=\"./storage/uber\")"
      ]
    },
    {
      "cell_type": "code",
      "execution_count": null,
      "id": "Ea0MpYFUIevj",
      "metadata": {
        "id": "Ea0MpYFUIevj"
      },
      "outputs": [],
      "source": []
    },
    {
      "cell_type": "code",
      "execution_count": null,
      "id": "4F5TeAmBI8RJ",
      "metadata": {
        "id": "4F5TeAmBI8RJ"
      },
      "outputs": [],
      "source": []
    },
    {
      "cell_type": "markdown",
      "id": "VkZLpiBEI8zr",
      "metadata": {
        "id": "VkZLpiBEI8zr"
      },
      "source": [
        "### 2. Create Engine"
      ]
    },
    {
      "cell_type": "code",
      "execution_count": 23,
      "id": "1df845e8-8932-4a51-ad0a-db0e6533fdc9",
      "metadata": {
        "id": "1df845e8-8932-4a51-ad0a-db0e6533fdc9"
      },
      "outputs": [],
      "source": [
        "lyft_engine = lyft_index.as_query_engine(similarity_top_k=3)\n",
        "uber_engine = uber_index.as_query_engine(similarity_top_k=3)"
      ]
    },
    {
      "cell_type": "code",
      "execution_count": 24,
      "id": "4BMMqgtDIipM",
      "metadata": {
        "colab": {
          "base_uri": "https://localhost:8080/"
        },
        "id": "4BMMqgtDIipM",
        "outputId": "b5b6fff2-f488-428a-e22f-c1f561d0dba1"
      },
      "outputs": [
        {
          "data": {
            "text/plain": [
              "<llama_index.core.query_engine.retriever_query_engine.RetrieverQueryEngine at 0x7f6ef8c97df0>"
            ]
          },
          "execution_count": 24,
          "metadata": {},
          "output_type": "execute_result"
        }
      ],
      "source": [
        "lyft_engine"
      ]
    },
    {
      "cell_type": "code",
      "execution_count": 25,
      "id": "ky4Cs08UIlzV",
      "metadata": {
        "colab": {
          "base_uri": "https://localhost:8080/"
        },
        "id": "ky4Cs08UIlzV",
        "outputId": "8a4bde88-784c-46c6-9512-d187419dbc89"
      },
      "outputs": [
        {
          "data": {
            "text/plain": [
              "<llama_index.core.query_engine.retriever_query_engine.RetrieverQueryEngine at 0x7f6ef8c94400>"
            ]
          },
          "execution_count": 25,
          "metadata": {},
          "output_type": "execute_result"
        }
      ],
      "source": [
        "uber_engine"
      ]
    },
    {
      "cell_type": "code",
      "execution_count": 26,
      "id": "69ed3f3b-cf01-4958-ba53-e5448e487c1e",
      "metadata": {
        "id": "69ed3f3b-cf01-4958-ba53-e5448e487c1e"
      },
      "outputs": [],
      "source": [
        "query_engine_tools = [\n",
        "    QueryEngineTool(\n",
        "        query_engine=lyft_engine,\n",
        "        metadata=ToolMetadata(\n",
        "            name=\"lyft_10k\",\n",
        "            description=(\n",
        "                \"Provides information about Lyft financials for year 2021. \"\n",
        "                \"Use a detailed plain text question as input to the tool.\"\n",
        "            ),\n",
        "        ),\n",
        "    ),\n",
        "    QueryEngineTool(\n",
        "        query_engine=uber_engine,\n",
        "        metadata=ToolMetadata(\n",
        "            name=\"uber_10k\",\n",
        "            description=(\n",
        "                \"Provides information about Uber financials for year 2021. \"\n",
        "                \"Use a detailed plain text question as input to the tool.\"\n",
        "            ),\n",
        "        ),\n",
        "    ),\n",
        "]"
      ]
    },
    {
      "cell_type": "markdown",
      "id": "fcd18ac7-5b5b-4093-8882-30ab93fa9d16",
      "metadata": {
        "id": "fcd18ac7-5b5b-4093-8882-30ab93fa9d16"
      },
      "source": [
        "### 3. Now the query engine tools is being created, let's try it out with this tools."
      ]
    },
    {
      "cell_type": "code",
      "execution_count": 27,
      "id": "e76a5a96-c299-4565-bc1a-8b4f4ca4b455",
      "metadata": {
        "id": "e76a5a96-c299-4565-bc1a-8b4f4ca4b455"
      },
      "outputs": [],
      "source": [
        "agent = OpenAIAssistantAgent.from_new(\n",
        "    name=\"SEC Analyst\",\n",
        "    instructions=\"You are a QA assistant designed to analyze sec filings.\",\n",
        "    tools=query_engine_tools,\n",
        "    instructions_prefix=\"Please address the user as Sudarshan.\",\n",
        "    verbose=True,\n",
        "    run_retrieve_sleep_time=1.0,\n",
        ")"
      ]
    },
    {
      "cell_type": "code",
      "execution_count": 28,
      "id": "8b30b508-3f2e-47e6-b79c-57333fe37e88",
      "metadata": {
        "colab": {
          "base_uri": "https://localhost:8080/"
        },
        "id": "8b30b508-3f2e-47e6-b79c-57333fe37e88",
        "outputId": "b63c8756-3c97-4c06-cb21-877d6230f861"
      },
      "outputs": [
        {
          "name": "stdout",
          "output_type": "stream",
          "text": [
            "=== Calling Function ===\n",
            "Calling function: lyft_10k with args: {\"input\":\"What was Lyft's revenue growth in 2021?\"}\n",
            "Got output: Empty Response\n",
            "========================\n"
          ]
        }
      ],
      "source": [
        "response = agent.chat(\"What was Lyft's revenue growth in 2021?\")"
      ]
    },
    {
      "cell_type": "code",
      "execution_count": 29,
      "id": "fHIO4xWRK8Bt",
      "metadata": {
        "colab": {
          "base_uri": "https://localhost:8080/",
          "height": 122
        },
        "id": "fHIO4xWRK8Bt",
        "outputId": "1ee304f9-a894-4032-ba6d-c15be7351464"
      },
      "outputs": [
        {
          "data": {
            "application/vnd.google.colaboratory.intrinsic+json": {
              "type": "string"
            },
            "text/plain": [
              "\"I apologize, but it seems there was an issue retrieving Lyft's revenue growth for 2021. To provide you with accurate information, I can suggest looking into Lyft's annual report, specifically the Form 10-K for the year 2021, which will include detailed financial statements and discussions of the company's performance, including revenue growth. These documents are publicly available on the investor relations section of Lyft's website or through the U.S. Securities and Exchange Commission's EDGAR database.\\n\\nIf you need further assistance or specific details from the report, please let me know, and I'll do my best to help.\""
            ]
          },
          "execution_count": 29,
          "metadata": {},
          "output_type": "execute_result"
        }
      ],
      "source": [
        "response.response"
      ]
    },
    {
      "cell_type": "code",
      "execution_count": 30,
      "id": "rvFXWuSxJL7P",
      "metadata": {
        "colab": {
          "base_uri": "https://localhost:8080/"
        },
        "id": "rvFXWuSxJL7P",
        "outputId": "c4cc3283-b8e3-4ec2-cc34-9f0af88a76dc"
      },
      "outputs": [
        {
          "data": {
            "text/plain": [
              "[]"
            ]
          },
          "execution_count": 30,
          "metadata": {},
          "output_type": "execute_result"
        }
      ],
      "source": [
        "response.source_nodes"
      ]
    },
    {
      "cell_type": "markdown",
      "id": "0783a8db-5546-472a-8376-6d2774dba45a",
      "metadata": {
        "id": "0783a8db-5546-472a-8376-6d2774dba45a"
      },
      "source": [
        "## Assistant with Built-In Retrieval\n",
        "\n",
        "Let's test the assistant by having it use the built-in OpenAI Retrieval tool over a user-uploaded file.\n",
        "\n",
        "Here, we upload and pass in the file during assistant-creation time.\n",
        "\n",
        "The other option is you can upload/pass the file-id in for a message in a given thread with `upload_files` and `add_message`. [Link](https://platform.openai.com/docs/assistants/tools/uploading-files-for-retrieval) to openai documentation."
      ]
    },
    {
      "cell_type": "code",
      "execution_count": 32,
      "id": "3ac4421f-ca9e-4d9f-91e1-10e1fb1119e7",
      "metadata": {
        "id": "3ac4421f-ca9e-4d9f-91e1-10e1fb1119e7"
      },
      "outputs": [],
      "source": [
        "from llama_index.agent.openai import OpenAIAssistantAgent\n"
      ]
    },
    {
      "cell_type": "code",
      "execution_count": 34,
      "id": "304c5c23-930c-4aed-8e0b-84a6e5c36138",
      "metadata": {
        "id": "304c5c23-930c-4aed-8e0b-84a6e5c36138"
      },
      "outputs": [],
      "source": [
        "\n",
        "agent = OpenAIAssistantAgent.from_new(\n",
        "    name=\"Math Tutor\",\n",
        "    instructions=\"You are a personal math tutor. Write and run code to answer math questions.\",\n",
        "    openai_tools=[{\"type\": \"code_interpreter\"}],\n",
        "    instructions_prefix=\"Please address the user as Sudarshan Koirala.\",\n",
        ")"
      ]
    },
    {
      "cell_type": "code",
      "execution_count": 35,
      "id": "6845f8e9-ca2c-4bd1-a31a-dc58b47c585a",
      "metadata": {
        "id": "6845f8e9-ca2c-4bd1-a31a-dc58b47c585a"
      },
      "outputs": [],
      "source": [
        "response = agent.chat(\"What was Lyft's revenue growth in 2021?\")"
      ]
    },
    {
      "cell_type": "code",
      "execution_count": 36,
      "id": "BxgO3ApZKP9L",
      "metadata": {
        "colab": {
          "base_uri": "https://localhost:8080/"
        },
        "id": "BxgO3ApZKP9L",
        "outputId": "42b56203-91a3-4083-fae6-147076748c8a"
      },
      "outputs": [
        {
          "name": "stdout",
          "output_type": "stream",
          "text": [
            "('As of my knowledge cutoff in April 2023, Lyft, Inc., the American '\n",
            " 'ride-sharing company, released its financial results for the year ending '\n",
            " 'December 31, 2021, which showed significant recovery and revenue growth '\n",
            " 'compared to 2020. The COVID-19 pandemic heavily impacted the ride-sharing '\n",
            " 'industry in 2020, leading to reduced revenues as travel restrictions and '\n",
            " 'lockdowns were in place.\\n'\n",
            " '\\n'\n",
            " 'In 2021, Lyft reported that its revenue had grown compared to the previous '\n",
            " \"year. However, to provide you with a specific percentage for Lyft's revenue \"\n",
            " 'growth in 2021, I would need to check the most current and accurate '\n",
            " \"financial data. Since my internet access is disabled and I can't access \"\n",
            " \"real-time information, I suggest you refer to Lyft's investor relations page \"\n",
            " 'or their annual financial report (Form 10-K) for the detailed financial '\n",
            " 'figures reported for 2021, which would include their annual revenue growth.\\n'\n",
            " '\\n'\n",
            " 'If you have access to the specific revenue figures for 2020 and 2021, I can '\n",
            " 'certainly help you calculate the revenue growth percentage.')\n"
          ]
        }
      ],
      "source": [
        "from pprint import pprint\n",
        "pprint(response.response)"
      ]
    },
    {
      "cell_type": "code",
      "execution_count": null,
      "id": "e2gl91F0KnWx",
      "metadata": {
        "id": "e2gl91F0KnWx"
      },
      "outputs": [],
      "source": []
    }
  ],
  "metadata": {
    "colab": {
      "provenance": []
    },
    "kernelspec": {
      "display_name": "llama_index_v2",
      "language": "python",
      "name": "llama_index_v2"
    },
    "language_info": {
      "codemirror_mode": {
        "name": "ipython",
        "version": 3
      },
      "file_extension": ".py",
      "mimetype": "text/x-python",
      "name": "python",
      "nbconvert_exporter": "python",
      "pygments_lexer": "ipython3"
    }
  },
  "nbformat": 4,
  "nbformat_minor": 5
}
